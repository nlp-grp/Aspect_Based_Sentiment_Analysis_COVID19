{
 "cells": [
  {
   "cell_type": "code",
   "execution_count": null,
   "metadata": {},
   "outputs": [],
   "source": [
    "import gzip\n",
    "import glob\n",
    "import json\n",
    "import pandas as pd\n",
    "import numpy as np"
   ]
  },
  {
   "cell_type": "code",
   "execution_count": null,
   "metadata": {},
   "outputs": [],
   "source": [
    "path2 = 'labels_predictions_twitter_test_images'"
   ]
  },
  {
   "cell_type": "code",
   "execution_count": null,
   "metadata": {},
   "outputs": [],
   "source": [
    "df2 = pd.read_csv(path2)"
   ]
  },
  {
   "cell_type": "code",
   "execution_count": null,
   "metadata": {},
   "outputs": [],
   "source": [
    "df2.head()"
   ]
  },
  {
   "cell_type": "code",
   "execution_count": null,
   "metadata": {},
   "outputs": [],
   "source": [
    "data_df = pd.DataFrame()"
   ]
  },
  {
   "cell_type": "code",
   "execution_count": null,
   "metadata": {},
   "outputs": [],
   "source": [
    "data_df['label'] = df2['label']\n",
    "data_df['prediction'] = df2['prediction']"
   ]
  },
  {
   "cell_type": "code",
   "execution_count": null,
   "metadata": {},
   "outputs": [],
   "source": [
    "data_df.head()"
   ]
  },
  {
   "cell_type": "code",
   "execution_count": null,
   "metadata": {},
   "outputs": [],
   "source": [
    "probas = np.array(data_df['prediction'].to_list())\n",
    "labels = (probas > 0.5).astype(np.int)\n",
    "print(labels)"
   ]
  },
  {
   "cell_type": "code",
   "execution_count": null,
   "metadata": {},
   "outputs": [],
   "source": [
    "sum(labels)"
   ]
  },
  {
   "cell_type": "code",
   "execution_count": null,
   "metadata": {},
   "outputs": [],
   "source": [
    "race_dict = {}\n",
    "races = list(labels)\n",
    "user_ids = data_df['label'].to_list()\n",
    "for i in range(len(user_ids)):\n",
    "    race_dict[int(user_ids[i])] = races[i]\n",
    "\n",
    "twitter_race_tweets = {}"
   ]
  },
  {
   "cell_type": "code",
   "execution_count": null,
   "metadata": {},
   "outputs": [],
   "source": [
    "path = 'Twitter_Covid_Data/*.json.gz'\n",
    "files = glob.glob(path)"
   ]
  },
  {
   "cell_type": "code",
   "execution_count": null,
   "metadata": {},
   "outputs": [],
   "source": [
    "df_race_tweets = pd.DataFrame()"
   ]
  },
  {
   "cell_type": "code",
   "execution_count": null,
   "metadata": {},
   "outputs": [],
   "source": [
    "for i in range(len(files)):\n",
    "    try:\n",
    "        with gzip.open(files[i], 'rb') as f:\n",
    "            for line in f:\n",
    "                data = json.loads(line)\n",
    "                try:\n",
    "                    uid = data['user']['id']\n",
    "                except:\n",
    "                    continue\n",
    "                if uid in race_dict.keys():\n",
    "                    twitter_race_tweets['user_id'] = uid\n",
    "                    twitter_race_tweets['race'] = race_dict[uid]\n",
    "                    if data['truncated'] == True:\n",
    "                        twitter_race_tweets['tweet'] = data['extended_tweet']['full_text']\n",
    "                    else:\n",
    "                        twitter_race_tweets['tweet'] = data['text']\n",
    "                    df_race_tweets = df_race_tweets.append(twitter_race_tweets, ignore_index=True)\n",
    "                    df_race_tweets['race'] = df_race_tweets['race'].astype('int')\n",
    "                    df_race_tweets['user_id'] = df_race_tweets['user_id'].astype('int')\n",
    "                    twitter_race_tweets.clear()\n",
    "    except Exception as e:\n",
    "        print(e)\n",
    "        print(\"Faulty file \", files[i]) #some files are faulty in the retrieved dataset and do not open\n",
    "\n"
   ]
  },
  {
   "cell_type": "code",
   "execution_count": null,
   "metadata": {},
   "outputs": [],
   "source": [
    "df_race_tweets"
   ]
  },
  {
   "cell_type": "code",
   "execution_count": null,
   "metadata": {},
   "outputs": [],
   "source": [
    "df_race_tweets.to_csv('output_twitter_race_tweets.csv')"
   ]
  }
 ],
 "metadata": {
  "kernelspec": {
   "display_name": "Python 3 (ipykernel)",
   "language": "python",
   "name": "python3"
  },
  "language_info": {
   "codemirror_mode": {
    "name": "ipython",
    "version": 3
   },
   "file_extension": ".py",
   "mimetype": "text/x-python",
   "name": "python",
   "nbconvert_exporter": "python",
   "pygments_lexer": "ipython3",
   "version": "3.8.11"
  }
 },
 "nbformat": 4,
 "nbformat_minor": 2
}
