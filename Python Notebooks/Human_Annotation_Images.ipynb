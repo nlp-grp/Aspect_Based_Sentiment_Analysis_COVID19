{
 "cells": [
  {
   "cell_type": "code",
   "execution_count": null,
   "metadata": {},
   "outputs": [],
   "source": [
    "import glob\n",
    "import pandas as pd\n",
    "from PIL import Image\n",
    "import psutil"
   ]
  },
  {
   "cell_type": "code",
   "execution_count": null,
   "metadata": {},
   "outputs": [],
   "source": [
    "df = pd.read_csv('twitter_race_tweets.csv')\n",
    "df.rename({\"Unnamed: 0\":\"a\"}, axis=\"columns\", inplace=True)\n",
    "df.drop([\"a\"], axis=1, inplace=True)\n",
    "df"
   ]
  },
  {
   "cell_type": "code",
   "execution_count": null,
   "metadata": {},
   "outputs": [],
   "source": [
    "df_ss = df[df['race'] == 1]\n",
    "df_ss"
   ]
  },
  {
   "cell_type": "code",
   "execution_count": null,
   "metadata": {},
   "outputs": [],
   "source": [
    "user_ids= df_ss['user_id'].to_list()\n",
    "print(len(user_ids))\n",
    "user_ids = set(user_ids)"
   ]
  },
  {
   "cell_type": "code",
   "execution_count": null,
   "metadata": {},
   "outputs": [],
   "source": [
    "print(len(user_ids))"
   ]
  },
  {
   "cell_type": "code",
   "execution_count": null,
   "metadata": {},
   "outputs": [],
   "source": [
    "import matplotlib.pyplot as plt\n",
    "import matplotlib.image as mpimg"
   ]
  },
  {
   "cell_type": "code",
   "execution_count": null,
   "metadata": {},
   "outputs": [],
   "source": [
    "human_annotate = pd.DataFrame(columns = ('user_id','decision'))\n",
    "path = 'twitter_test_images'\n",
    "files = glob.glob(path)\n",
    "count = 0\n",
    "for ids in user_ids:\n",
    "    imgplot = plt.imshow(mpimg.imread(path + str(ids) + '.jpg'))\n",
    "    plt.ion()\n",
    "    plt.show()\n",
    "    print('Enter Decision')\n",
    "    decide = input('Yes/ No/ Not sure :')\n",
    "    print('You entered ', decide)\n",
    "    new_row = {'user_id': ids, 'decision': decide}\n",
    "    human_annotate = human_annotate.append(new_row, ignore_index=True)\n",
    "    count += 1\n",
    "    print(count)\n",
    "    plt.close()\n"
   ]
  },
  {
   "cell_type": "code",
   "execution_count": null,
   "metadata": {},
   "outputs": [],
   "source": [
    "human_annotate.to_csv('human_annotations.csv')"
   ]
  },
  {
   "cell_type": "code",
   "execution_count": null,
   "metadata": {},
   "outputs": [],
   "source": [
    "aa_annotated = pd.read_csv('human_annotations.csv')\n",
    "\n",
    "aa_annotated "
   ]
  },
  {
   "cell_type": "code",
   "execution_count": null,
   "metadata": {},
   "outputs": [],
   "source": [
    "aa_annotated .rename({\"Unnamed: 0\":\"a\"}, axis=\"columns\", inplace=True)\n",
    "aa_annotated .drop([\"a\"], axis=1, inplace=True)\n",
    "aa_annotated "
   ]
  },
  {
   "cell_type": "code",
   "execution_count": null,
   "metadata": {},
   "outputs": [],
   "source": [
    "aa_list = aa_annotated[aa_annotated['decision'] == 'y']\n",
    "aa_list"
   ]
  }
 ],
 "metadata": {
  "kernelspec": {
   "display_name": "Python 3 (ipykernel)",
   "language": "python",
   "name": "python3"
  },
  "language_info": {
   "codemirror_mode": {
    "name": "ipython",
    "version": 3
   },
   "file_extension": ".py",
   "mimetype": "text/x-python",
   "name": "python",
   "nbconvert_exporter": "python",
   "pygments_lexer": "ipython3",
   "version": "3.8.11"
  }
 },
 "nbformat": 4,
 "nbformat_minor": 2
}
